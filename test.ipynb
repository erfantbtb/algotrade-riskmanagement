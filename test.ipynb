{
 "cells": [
  {
   "cell_type": "code",
   "execution_count": 1,
   "metadata": {},
   "outputs": [],
   "source": [
    "import numpy as np \n",
    "import pandas as pd \n",
    "import yfinance as yf \n",
    "import datetime as dt \n",
    "from _measurements import * \n",
    "from _weight_optimization import *\n",
    "from _time_varying_optimization import *\n",
    "from _regime_detection import *\n",
    "import seaborn as sns \n",
    "import pytse_client as tse \n",
    "import matplotlib.pyplot as plt\n",
    "import os\n",
    "sns.set_theme()"
   ]
  },
  {
   "cell_type": "code",
   "execution_count": 2,
   "metadata": {},
   "outputs": [],
   "source": [
    "%reload_ext autoreload\n",
    "%autoreload 2"
   ]
  },
  {
   "cell_type": "code",
   "execution_count": 3,
   "metadata": {},
   "outputs": [
    {
     "name": "stdout",
     "output_type": "stream",
     "text": [
      "[*********************100%***********************]  19 of 19 completed\n"
     ]
    },
    {
     "data": {
      "text/html": [
       "<div>\n",
       "<style scoped>\n",
       "    .dataframe tbody tr th:only-of-type {\n",
       "        vertical-align: middle;\n",
       "    }\n",
       "\n",
       "    .dataframe tbody tr th {\n",
       "        vertical-align: top;\n",
       "    }\n",
       "\n",
       "    .dataframe thead th {\n",
       "        text-align: right;\n",
       "    }\n",
       "</style>\n",
       "<table border=\"1\" class=\"dataframe\">\n",
       "  <thead>\n",
       "    <tr style=\"text-align: right;\">\n",
       "      <th></th>\n",
       "      <th>AAPL</th>\n",
       "      <th>ADBE</th>\n",
       "      <th>AMZN</th>\n",
       "      <th>BAC</th>\n",
       "      <th>GE</th>\n",
       "      <th>GM</th>\n",
       "      <th>GOOGL</th>\n",
       "      <th>IBM</th>\n",
       "      <th>JNJ</th>\n",
       "      <th>KO</th>\n",
       "      <th>MCD</th>\n",
       "      <th>MSFT</th>\n",
       "      <th>NFLX</th>\n",
       "      <th>NKE</th>\n",
       "      <th>NVDA</th>\n",
       "      <th>PM</th>\n",
       "      <th>PUM.DE</th>\n",
       "      <th>TSLA</th>\n",
       "      <th>WMT</th>\n",
       "    </tr>\n",
       "    <tr>\n",
       "      <th>Date</th>\n",
       "      <th></th>\n",
       "      <th></th>\n",
       "      <th></th>\n",
       "      <th></th>\n",
       "      <th></th>\n",
       "      <th></th>\n",
       "      <th></th>\n",
       "      <th></th>\n",
       "      <th></th>\n",
       "      <th></th>\n",
       "      <th></th>\n",
       "      <th></th>\n",
       "      <th></th>\n",
       "      <th></th>\n",
       "      <th></th>\n",
       "      <th></th>\n",
       "      <th></th>\n",
       "      <th></th>\n",
       "      <th></th>\n",
       "    </tr>\n",
       "  </thead>\n",
       "  <tbody>\n",
       "    <tr>\n",
       "      <th>2010-11-19</th>\n",
       "      <td>-0.005512</td>\n",
       "      <td>0.006276</td>\n",
       "      <td>0.003959</td>\n",
       "      <td>-0.003419</td>\n",
       "      <td>0.011222</td>\n",
       "      <td>0.002047</td>\n",
       "      <td>-0.009605</td>\n",
       "      <td>0.004780</td>\n",
       "      <td>0.000000</td>\n",
       "      <td>0.007519</td>\n",
       "      <td>0.007846</td>\n",
       "      <td>-0.005805</td>\n",
       "      <td>0.027981</td>\n",
       "      <td>0.040500</td>\n",
       "      <td>0.032282</td>\n",
       "      <td>0.006056</td>\n",
       "      <td>0.004571</td>\n",
       "      <td>0.036801</td>\n",
       "      <td>0.007595</td>\n",
       "    </tr>\n",
       "    <tr>\n",
       "      <th>2010-11-22</th>\n",
       "      <td>0.021615</td>\n",
       "      <td>0.011088</td>\n",
       "      <td>0.033794</td>\n",
       "      <td>-0.030875</td>\n",
       "      <td>-0.011714</td>\n",
       "      <td>-0.005254</td>\n",
       "      <td>0.000660</td>\n",
       "      <td>0.002344</td>\n",
       "      <td>-0.003290</td>\n",
       "      <td>-0.000777</td>\n",
       "      <td>-0.001507</td>\n",
       "      <td>0.001557</td>\n",
       "      <td>0.088303</td>\n",
       "      <td>0.001282</td>\n",
       "      <td>0.000727</td>\n",
       "      <td>-0.005518</td>\n",
       "      <td>-0.011375</td>\n",
       "      <td>0.077767</td>\n",
       "      <td>-0.000184</td>\n",
       "    </tr>\n",
       "    <tr>\n",
       "      <th>2010-11-23</th>\n",
       "      <td>-0.014775</td>\n",
       "      <td>-0.033927</td>\n",
       "      <td>-0.012853</td>\n",
       "      <td>-0.018584</td>\n",
       "      <td>-0.016843</td>\n",
       "      <td>-0.024355</td>\n",
       "      <td>-0.013886</td>\n",
       "      <td>-0.015200</td>\n",
       "      <td>-0.011789</td>\n",
       "      <td>-0.010114</td>\n",
       "      <td>-0.006413</td>\n",
       "      <td>-0.023708</td>\n",
       "      <td>-0.003239</td>\n",
       "      <td>-0.007682</td>\n",
       "      <td>-0.023256</td>\n",
       "      <td>-0.011937</td>\n",
       "      <td>-0.023849</td>\n",
       "      <td>0.035030</td>\n",
       "      <td>-0.013056</td>\n",
       "    </tr>\n",
       "    <tr>\n",
       "      <th>2010-11-24</th>\n",
       "      <td>0.019661</td>\n",
       "      <td>0.007449</td>\n",
       "      <td>0.053805</td>\n",
       "      <td>0.017133</td>\n",
       "      <td>0.011421</td>\n",
       "      <td>0.006917</td>\n",
       "      <td>0.020514</td>\n",
       "      <td>0.018369</td>\n",
       "      <td>0.006680</td>\n",
       "      <td>0.015561</td>\n",
       "      <td>0.005949</td>\n",
       "      <td>0.009952</td>\n",
       "      <td>0.005647</td>\n",
       "      <td>0.014896</td>\n",
       "      <td>0.024554</td>\n",
       "      <td>0.007487</td>\n",
       "      <td>0.002572</td>\n",
       "      <td>0.026034</td>\n",
       "      <td>0.006335</td>\n",
       "    </tr>\n",
       "    <tr>\n",
       "      <th>2010-11-26</th>\n",
       "      <td>0.000635</td>\n",
       "      <td>0.011268</td>\n",
       "      <td>-0.000282</td>\n",
       "      <td>-0.014184</td>\n",
       "      <td>-0.008783</td>\n",
       "      <td>0.009558</td>\n",
       "      <td>-0.008353</td>\n",
       "      <td>-0.013099</td>\n",
       "      <td>-0.015642</td>\n",
       "      <td>-0.007739</td>\n",
       "      <td>-0.011827</td>\n",
       "      <td>-0.004730</td>\n",
       "      <td>0.016581</td>\n",
       "      <td>-0.006587</td>\n",
       "      <td>-0.012346</td>\n",
       "      <td>-0.007262</td>\n",
       "      <td>-0.002138</td>\n",
       "      <td>-0.004229</td>\n",
       "      <td>-0.004999</td>\n",
       "    </tr>\n",
       "    <tr>\n",
       "      <th>...</th>\n",
       "      <td>...</td>\n",
       "      <td>...</td>\n",
       "      <td>...</td>\n",
       "      <td>...</td>\n",
       "      <td>...</td>\n",
       "      <td>...</td>\n",
       "      <td>...</td>\n",
       "      <td>...</td>\n",
       "      <td>...</td>\n",
       "      <td>...</td>\n",
       "      <td>...</td>\n",
       "      <td>...</td>\n",
       "      <td>...</td>\n",
       "      <td>...</td>\n",
       "      <td>...</td>\n",
       "      <td>...</td>\n",
       "      <td>...</td>\n",
       "      <td>...</td>\n",
       "      <td>...</td>\n",
       "    </tr>\n",
       "    <tr>\n",
       "      <th>2023-07-31</th>\n",
       "      <td>0.003166</td>\n",
       "      <td>0.032711</td>\n",
       "      <td>0.011119</td>\n",
       "      <td>0.003135</td>\n",
       "      <td>-0.001311</td>\n",
       "      <td>0.008410</td>\n",
       "      <td>0.001056</td>\n",
       "      <td>0.005089</td>\n",
       "      <td>-0.039833</td>\n",
       "      <td>-0.008803</td>\n",
       "      <td>-0.002823</td>\n",
       "      <td>-0.007241</td>\n",
       "      <td>0.030978</td>\n",
       "      <td>0.016295</td>\n",
       "      <td>-0.000449</td>\n",
       "      <td>-0.001402</td>\n",
       "      <td>-0.000976</td>\n",
       "      <td>0.003716</td>\n",
       "      <td>-0.000313</td>\n",
       "    </tr>\n",
       "    <tr>\n",
       "      <th>2023-08-01</th>\n",
       "      <td>-0.004276</td>\n",
       "      <td>0.005365</td>\n",
       "      <td>-0.014886</td>\n",
       "      <td>-0.011875</td>\n",
       "      <td>-0.008929</td>\n",
       "      <td>-0.006516</td>\n",
       "      <td>-0.008816</td>\n",
       "      <td>-0.005895</td>\n",
       "      <td>0.008118</td>\n",
       "      <td>-0.002584</td>\n",
       "      <td>-0.007265</td>\n",
       "      <td>0.001250</td>\n",
       "      <td>-0.000797</td>\n",
       "      <td>-0.008968</td>\n",
       "      <td>-0.004751</td>\n",
       "      <td>-0.014741</td>\n",
       "      <td>-0.013021</td>\n",
       "      <td>-0.023782</td>\n",
       "      <td>-0.004692</td>\n",
       "    </tr>\n",
       "    <tr>\n",
       "      <th>2023-08-02</th>\n",
       "      <td>-0.015490</td>\n",
       "      <td>-0.034238</td>\n",
       "      <td>-0.026426</td>\n",
       "      <td>-0.013599</td>\n",
       "      <td>-0.011040</td>\n",
       "      <td>-0.019150</td>\n",
       "      <td>-0.024097</td>\n",
       "      <td>0.005861</td>\n",
       "      <td>0.006039</td>\n",
       "      <td>0.003076</td>\n",
       "      <td>-0.004982</td>\n",
       "      <td>-0.026283</td>\n",
       "      <td>-0.020336</td>\n",
       "      <td>-0.017276</td>\n",
       "      <td>-0.048122</td>\n",
       "      <td>-0.003155</td>\n",
       "      <td>-0.001979</td>\n",
       "      <td>-0.026660</td>\n",
       "      <td>0.000691</td>\n",
       "    </tr>\n",
       "    <tr>\n",
       "      <th>2023-08-03</th>\n",
       "      <td>-0.007322</td>\n",
       "      <td>-0.012333</td>\n",
       "      <td>0.005460</td>\n",
       "      <td>0.007054</td>\n",
       "      <td>0.003483</td>\n",
       "      <td>-0.012570</td>\n",
       "      <td>0.000545</td>\n",
       "      <td>0.001942</td>\n",
       "      <td>0.004296</td>\n",
       "      <td>-0.005165</td>\n",
       "      <td>0.004834</td>\n",
       "      <td>-0.002565</td>\n",
       "      <td>0.003025</td>\n",
       "      <td>0.010511</td>\n",
       "      <td>0.005557</td>\n",
       "      <td>-0.005309</td>\n",
       "      <td>0.019167</td>\n",
       "      <td>0.020503</td>\n",
       "      <td>0.000251</td>\n",
       "    </tr>\n",
       "    <tr>\n",
       "      <th>2023-08-04</th>\n",
       "      <td>-0.048020</td>\n",
       "      <td>0.005957</td>\n",
       "      <td>0.082693</td>\n",
       "      <td>-0.003502</td>\n",
       "      <td>0.006230</td>\n",
       "      <td>-0.009480</td>\n",
       "      <td>-0.002647</td>\n",
       "      <td>-0.001454</td>\n",
       "      <td>-0.009377</td>\n",
       "      <td>-0.015088</td>\n",
       "      <td>-0.013745</td>\n",
       "      <td>0.003429</td>\n",
       "      <td>0.001392</td>\n",
       "      <td>0.001565</td>\n",
       "      <td>0.003707</td>\n",
       "      <td>-0.012420</td>\n",
       "      <td>0.030156</td>\n",
       "      <td>-0.021055</td>\n",
       "      <td>-0.005777</td>\n",
       "    </tr>\n",
       "  </tbody>\n",
       "</table>\n",
       "<p>3138 rows × 19 columns</p>\n",
       "</div>"
      ],
      "text/plain": [
       "                AAPL      ADBE      AMZN       BAC        GE        GM  \\\n",
       "Date                                                                     \n",
       "2010-11-19 -0.005512  0.006276  0.003959 -0.003419  0.011222  0.002047   \n",
       "2010-11-22  0.021615  0.011088  0.033794 -0.030875 -0.011714 -0.005254   \n",
       "2010-11-23 -0.014775 -0.033927 -0.012853 -0.018584 -0.016843 -0.024355   \n",
       "2010-11-24  0.019661  0.007449  0.053805  0.017133  0.011421  0.006917   \n",
       "2010-11-26  0.000635  0.011268 -0.000282 -0.014184 -0.008783  0.009558   \n",
       "...              ...       ...       ...       ...       ...       ...   \n",
       "2023-07-31  0.003166  0.032711  0.011119  0.003135 -0.001311  0.008410   \n",
       "2023-08-01 -0.004276  0.005365 -0.014886 -0.011875 -0.008929 -0.006516   \n",
       "2023-08-02 -0.015490 -0.034238 -0.026426 -0.013599 -0.011040 -0.019150   \n",
       "2023-08-03 -0.007322 -0.012333  0.005460  0.007054  0.003483 -0.012570   \n",
       "2023-08-04 -0.048020  0.005957  0.082693 -0.003502  0.006230 -0.009480   \n",
       "\n",
       "               GOOGL       IBM       JNJ        KO       MCD      MSFT  \\\n",
       "Date                                                                     \n",
       "2010-11-19 -0.009605  0.004780  0.000000  0.007519  0.007846 -0.005805   \n",
       "2010-11-22  0.000660  0.002344 -0.003290 -0.000777 -0.001507  0.001557   \n",
       "2010-11-23 -0.013886 -0.015200 -0.011789 -0.010114 -0.006413 -0.023708   \n",
       "2010-11-24  0.020514  0.018369  0.006680  0.015561  0.005949  0.009952   \n",
       "2010-11-26 -0.008353 -0.013099 -0.015642 -0.007739 -0.011827 -0.004730   \n",
       "...              ...       ...       ...       ...       ...       ...   \n",
       "2023-07-31  0.001056  0.005089 -0.039833 -0.008803 -0.002823 -0.007241   \n",
       "2023-08-01 -0.008816 -0.005895  0.008118 -0.002584 -0.007265  0.001250   \n",
       "2023-08-02 -0.024097  0.005861  0.006039  0.003076 -0.004982 -0.026283   \n",
       "2023-08-03  0.000545  0.001942  0.004296 -0.005165  0.004834 -0.002565   \n",
       "2023-08-04 -0.002647 -0.001454 -0.009377 -0.015088 -0.013745  0.003429   \n",
       "\n",
       "                NFLX       NKE      NVDA        PM    PUM.DE      TSLA  \\\n",
       "Date                                                                     \n",
       "2010-11-19  0.027981  0.040500  0.032282  0.006056  0.004571  0.036801   \n",
       "2010-11-22  0.088303  0.001282  0.000727 -0.005518 -0.011375  0.077767   \n",
       "2010-11-23 -0.003239 -0.007682 -0.023256 -0.011937 -0.023849  0.035030   \n",
       "2010-11-24  0.005647  0.014896  0.024554  0.007487  0.002572  0.026034   \n",
       "2010-11-26  0.016581 -0.006587 -0.012346 -0.007262 -0.002138 -0.004229   \n",
       "...              ...       ...       ...       ...       ...       ...   \n",
       "2023-07-31  0.030978  0.016295 -0.000449 -0.001402 -0.000976  0.003716   \n",
       "2023-08-01 -0.000797 -0.008968 -0.004751 -0.014741 -0.013021 -0.023782   \n",
       "2023-08-02 -0.020336 -0.017276 -0.048122 -0.003155 -0.001979 -0.026660   \n",
       "2023-08-03  0.003025  0.010511  0.005557 -0.005309  0.019167  0.020503   \n",
       "2023-08-04  0.001392  0.001565  0.003707 -0.012420  0.030156 -0.021055   \n",
       "\n",
       "                 WMT  \n",
       "Date                  \n",
       "2010-11-19  0.007595  \n",
       "2010-11-22 -0.000184  \n",
       "2010-11-23 -0.013056  \n",
       "2010-11-24  0.006335  \n",
       "2010-11-26 -0.004999  \n",
       "...              ...  \n",
       "2023-07-31 -0.000313  \n",
       "2023-08-01 -0.004692  \n",
       "2023-08-02  0.000691  \n",
       "2023-08-03  0.000251  \n",
       "2023-08-04 -0.005777  \n",
       "\n",
       "[3138 rows x 19 columns]"
      ]
     },
     "execution_count": 3,
     "metadata": {},
     "output_type": "execute_result"
    }
   ],
   "source": [
    "# List of symbols\n",
    "symbols = [\n",
    "    'AAPL', 'MSFT', 'GOOGL', \n",
    "    'AMZN', \"TSLA\", 'NVDA', \n",
    "    'JNJ', 'WMT', 'KO', \n",
    "    'BAC', 'ADBE', 'MCD',\n",
    "    'NFLX', 'NKE', 'PUM.DE',\n",
    "    'PM', 'IBM', 'GE', \"GM\"\n",
    "]\n",
    "\n",
    "# Download historical data for the symbols\n",
    "data = yf.download(symbols, end='2023-08-07')[\"Close\"]\n",
    "\n",
    "# Print the first few rows of the data\n",
    "data.dropna(inplace=True)\n",
    "returns = data.pct_change().dropna()\n",
    "returns"
   ]
  },
  {
   "cell_type": "code",
   "execution_count": 7,
   "metadata": {},
   "outputs": [
    {
     "data": {
      "application/vnd.jupyter.widget-view+json": {
       "model_id": "91e8d891abaa43608d3cd4d0e0640489",
       "version_major": 2,
       "version_minor": 0
      },
      "text/plain": [
       "Test Search Space for historical and historical:   0%|          | 0/31 [00:00<?, ?it/s]"
      ]
     },
     "metadata": {},
     "output_type": "display_data"
    },
    {
     "data": {
      "application/vnd.jupyter.widget-view+json": {
       "model_id": "a6febef8edde4e24a277b14c2a289fc0",
       "version_major": 2,
       "version_minor": 0
      },
      "text/plain": [
       "Test Search Space for historical and historical:   0%|          | 0/31 [00:00<?, ?it/s]"
      ]
     },
     "metadata": {},
     "output_type": "display_data"
    },
    {
     "data": {
      "application/vnd.jupyter.widget-view+json": {
       "model_id": "46fe135ad41a4ecb94ae3b45616827d9",
       "version_major": 2,
       "version_minor": 0
      },
      "text/plain": [
       "Test Search Space for historical and historical:   0%|          | 0/31 [00:00<?, ?it/s]"
      ]
     },
     "metadata": {},
     "output_type": "display_data"
    },
    {
     "data": {
      "application/vnd.jupyter.widget-view+json": {
       "model_id": "812b08e2614349e0a6febcf55fe045c6",
       "version_major": 2,
       "version_minor": 0
      },
      "text/plain": [
       "Test Search Space for historical and historical:   0%|          | 0/31 [00:00<?, ?it/s]"
      ]
     },
     "metadata": {},
     "output_type": "display_data"
    },
    {
     "data": {
      "application/vnd.jupyter.widget-view+json": {
       "model_id": "11a499872fc446b3ae506329e67d5317",
       "version_major": 2,
       "version_minor": 0
      },
      "text/plain": [
       "Test Search Space for historical and historical:   0%|          | 0/31 [00:00<?, ?it/s]"
      ]
     },
     "metadata": {},
     "output_type": "display_data"
    },
    {
     "data": {
      "application/vnd.jupyter.widget-view+json": {
       "model_id": "debeeb3567d74ff6b2f85d1d0a35de4b",
       "version_major": 2,
       "version_minor": 0
      },
      "text/plain": [
       "Test Search Space for historical and historical:   0%|          | 0/31 [00:00<?, ?it/s]"
      ]
     },
     "metadata": {},
     "output_type": "display_data"
    },
    {
     "data": {
      "application/vnd.jupyter.widget-view+json": {
       "model_id": "7229d393171044d08bf712a19373db17",
       "version_major": 2,
       "version_minor": 0
      },
      "text/plain": [
       "Test Search Space for historical and historical:   0%|          | 0/31 [00:00<?, ?it/s]"
      ]
     },
     "metadata": {},
     "output_type": "display_data"
    },
    {
     "data": {
      "application/vnd.jupyter.widget-view+json": {
       "model_id": "6b01fc20fcd64247953cc29a91728cf1",
       "version_major": 2,
       "version_minor": 0
      },
      "text/plain": [
       "Test Search Space for historical and historical:   0%|          | 0/31 [00:00<?, ?it/s]"
      ]
     },
     "metadata": {},
     "output_type": "display_data"
    },
    {
     "data": {
      "application/vnd.jupyter.widget-view+json": {
       "model_id": "c87e62959d9c4a74a55fee95a76ddc95",
       "version_major": 2,
       "version_minor": 0
      },
      "text/plain": [
       "Test Search Space for EWMA and EWMA:   0%|          | 0/31 [00:00<?, ?it/s]"
      ]
     },
     "metadata": {},
     "output_type": "display_data"
    },
    {
     "data": {
      "application/vnd.jupyter.widget-view+json": {
       "model_id": "2827843f3a574398b3cace275038bb5c",
       "version_major": 2,
       "version_minor": 0
      },
      "text/plain": [
       "Test Search Space for EWMA and EWMA:   0%|          | 0/31 [00:00<?, ?it/s]"
      ]
     },
     "metadata": {},
     "output_type": "display_data"
    },
    {
     "data": {
      "application/vnd.jupyter.widget-view+json": {
       "model_id": "a41f0d3014994ad5b6e7a1d585e0570f",
       "version_major": 2,
       "version_minor": 0
      },
      "text/plain": [
       "Test Search Space for EWMA and EWMA:   0%|          | 0/31 [00:00<?, ?it/s]"
      ]
     },
     "metadata": {},
     "output_type": "display_data"
    },
    {
     "data": {
      "application/vnd.jupyter.widget-view+json": {
       "model_id": "1d58ae729d4f48a9909abd11831dd65a",
       "version_major": 2,
       "version_minor": 0
      },
      "text/plain": [
       "Test Search Space for EWMA and EWMA:   0%|          | 0/31 [00:00<?, ?it/s]"
      ]
     },
     "metadata": {},
     "output_type": "display_data"
    },
    {
     "data": {
      "application/vnd.jupyter.widget-view+json": {
       "model_id": "0ee1d11210fc4397b74a43d5f79de6bb",
       "version_major": 2,
       "version_minor": 0
      },
      "text/plain": [
       "Test Search Space for EWMA and EWMA:   0%|          | 0/31 [00:00<?, ?it/s]"
      ]
     },
     "metadata": {},
     "output_type": "display_data"
    },
    {
     "data": {
      "application/vnd.jupyter.widget-view+json": {
       "model_id": "835087f972234ee3b0c955e85eda28e6",
       "version_major": 2,
       "version_minor": 0
      },
      "text/plain": [
       "Test Search Space for EWMA and EWMA:   0%|          | 0/31 [00:00<?, ?it/s]"
      ]
     },
     "metadata": {},
     "output_type": "display_data"
    },
    {
     "data": {
      "application/vnd.jupyter.widget-view+json": {
       "model_id": "ae44a83bf8a1408aafeab880889e4644",
       "version_major": 2,
       "version_minor": 0
      },
      "text/plain": [
       "Test Search Space for EWMA and EWMA:   0%|          | 0/31 [00:00<?, ?it/s]"
      ]
     },
     "metadata": {},
     "output_type": "display_data"
    },
    {
     "data": {
      "application/vnd.jupyter.widget-view+json": {
       "model_id": "8e6a95467a954d81bbf41b21526a80f6",
       "version_major": 2,
       "version_minor": 0
      },
      "text/plain": [
       "Test Search Space for EWMA and EWMA:   0%|          | 0/31 [00:00<?, ?it/s]"
      ]
     },
     "metadata": {},
     "output_type": "display_data"
    },
    {
     "data": {
      "application/vnd.jupyter.widget-view+json": {
       "model_id": "de9448b3614f48aea213501dc59406ad",
       "version_major": 2,
       "version_minor": 0
      },
      "text/plain": [
       "Test Search Space for ledoit and ledoit:   0%|          | 0/31 [00:00<?, ?it/s]"
      ]
     },
     "metadata": {},
     "output_type": "display_data"
    },
    {
     "data": {
      "application/vnd.jupyter.widget-view+json": {
       "model_id": "ba6e4e8b22ce4b33adf9a82f2b8363ce",
       "version_major": 2,
       "version_minor": 0
      },
      "text/plain": [
       "Test Search Space for ledoit and ledoit:   0%|          | 0/31 [00:00<?, ?it/s]"
      ]
     },
     "metadata": {},
     "output_type": "display_data"
    },
    {
     "data": {
      "application/vnd.jupyter.widget-view+json": {
       "model_id": "79ac1e68e007475fac7bd01f674e483d",
       "version_major": 2,
       "version_minor": 0
      },
      "text/plain": [
       "Test Search Space for ledoit and ledoit:   0%|          | 0/31 [00:00<?, ?it/s]"
      ]
     },
     "metadata": {},
     "output_type": "display_data"
    },
    {
     "data": {
      "application/vnd.jupyter.widget-view+json": {
       "model_id": "63545156c24b4c6b84b8fa82e76c68f0",
       "version_major": 2,
       "version_minor": 0
      },
      "text/plain": [
       "Test Search Space for ledoit and ledoit:   0%|          | 0/31 [00:00<?, ?it/s]"
      ]
     },
     "metadata": {},
     "output_type": "display_data"
    },
    {
     "data": {
      "application/vnd.jupyter.widget-view+json": {
       "model_id": "6c1f69027de04be48368b4cf2df975c8",
       "version_major": 2,
       "version_minor": 0
      },
      "text/plain": [
       "Test Search Space for ledoit and ledoit:   0%|          | 0/31 [00:00<?, ?it/s]"
      ]
     },
     "metadata": {},
     "output_type": "display_data"
    },
    {
     "data": {
      "application/vnd.jupyter.widget-view+json": {
       "model_id": "ffecdac366fe4d868702bc7ebd3157f3",
       "version_major": 2,
       "version_minor": 0
      },
      "text/plain": [
       "Test Search Space for ledoit and ledoit:   0%|          | 0/31 [00:00<?, ?it/s]"
      ]
     },
     "metadata": {},
     "output_type": "display_data"
    },
    {
     "data": {
      "application/vnd.jupyter.widget-view+json": {
       "model_id": "8648c470597e4d2598e4d7ca69751ad9",
       "version_major": 2,
       "version_minor": 0
      },
      "text/plain": [
       "Test Search Space for ledoit and ledoit:   0%|          | 0/31 [00:00<?, ?it/s]"
      ]
     },
     "metadata": {},
     "output_type": "display_data"
    },
    {
     "data": {
      "application/vnd.jupyter.widget-view+json": {
       "model_id": "7909492c49794874afa95dedd9b5f329",
       "version_major": 2,
       "version_minor": 0
      },
      "text/plain": [
       "Test Search Space for ledoit and ledoit:   0%|          | 0/31 [00:00<?, ?it/s]"
      ]
     },
     "metadata": {},
     "output_type": "display_data"
    },
    {
     "data": {
      "application/vnd.jupyter.widget-view+json": {
       "model_id": "5e946a988e514336a534c53e9762ff19",
       "version_major": 2,
       "version_minor": 0
      },
      "text/plain": [
       "Test Search Space for oracle and oracle:   0%|          | 0/31 [00:00<?, ?it/s]"
      ]
     },
     "metadata": {},
     "output_type": "display_data"
    },
    {
     "data": {
      "application/vnd.jupyter.widget-view+json": {
       "model_id": "44e9c47ec9cf4c2688a665d6fb42b604",
       "version_major": 2,
       "version_minor": 0
      },
      "text/plain": [
       "Test Search Space for oracle and oracle:   0%|          | 0/31 [00:00<?, ?it/s]"
      ]
     },
     "metadata": {},
     "output_type": "display_data"
    },
    {
     "data": {
      "application/vnd.jupyter.widget-view+json": {
       "model_id": "b0dfae3b6a304ddb82d78a5369d07811",
       "version_major": 2,
       "version_minor": 0
      },
      "text/plain": [
       "Test Search Space for oracle and oracle:   0%|          | 0/31 [00:00<?, ?it/s]"
      ]
     },
     "metadata": {},
     "output_type": "display_data"
    },
    {
     "data": {
      "application/vnd.jupyter.widget-view+json": {
       "model_id": "5f03f925e0eb43e2a0f4b6d77302a2a6",
       "version_major": 2,
       "version_minor": 0
      },
      "text/plain": [
       "Test Search Space for oracle and oracle:   0%|          | 0/31 [00:00<?, ?it/s]"
      ]
     },
     "metadata": {},
     "output_type": "display_data"
    },
    {
     "data": {
      "application/vnd.jupyter.widget-view+json": {
       "model_id": "50d226ce670f4e3abda541732dc32576",
       "version_major": 2,
       "version_minor": 0
      },
      "text/plain": [
       "Test Search Space for oracle and oracle:   0%|          | 0/31 [00:00<?, ?it/s]"
      ]
     },
     "metadata": {},
     "output_type": "display_data"
    },
    {
     "data": {
      "application/vnd.jupyter.widget-view+json": {
       "model_id": "f5d42365af6a4936b4d61488af86a42a",
       "version_major": 2,
       "version_minor": 0
      },
      "text/plain": [
       "Test Search Space for oracle and oracle:   0%|          | 0/31 [00:00<?, ?it/s]"
      ]
     },
     "metadata": {},
     "output_type": "display_data"
    },
    {
     "data": {
      "application/vnd.jupyter.widget-view+json": {
       "model_id": "6dd201e525c742f3955b2273e4d2183c",
       "version_major": 2,
       "version_minor": 0
      },
      "text/plain": [
       "Test Search Space for oracle and oracle:   0%|          | 0/31 [00:00<?, ?it/s]"
      ]
     },
     "metadata": {},
     "output_type": "display_data"
    },
    {
     "data": {
      "application/vnd.jupyter.widget-view+json": {
       "model_id": "42447e06de0e4c00a4bc158b6d1df3ca",
       "version_major": 2,
       "version_minor": 0
      },
      "text/plain": [
       "Test Search Space for oracle and oracle:   0%|          | 0/31 [00:00<?, ?it/s]"
      ]
     },
     "metadata": {},
     "output_type": "display_data"
    },
    {
     "data": {
      "application/vnd.jupyter.widget-view+json": {
       "model_id": "80e2420a9bdf47f8bcb22571ed9b9f33",
       "version_major": 2,
       "version_minor": 0
      },
      "text/plain": [
       "Test Search Space for shrunk and shrunk:   0%|          | 0/31 [00:00<?, ?it/s]"
      ]
     },
     "metadata": {},
     "output_type": "display_data"
    },
    {
     "data": {
      "application/vnd.jupyter.widget-view+json": {
       "model_id": "f0cf29d2ec0b49aca040bc502980590f",
       "version_major": 2,
       "version_minor": 0
      },
      "text/plain": [
       "Test Search Space for shrunk and shrunk:   0%|          | 0/31 [00:00<?, ?it/s]"
      ]
     },
     "metadata": {},
     "output_type": "display_data"
    },
    {
     "data": {
      "application/vnd.jupyter.widget-view+json": {
       "model_id": "7a67997c90f544f29fe141d4ff3d477c",
       "version_major": 2,
       "version_minor": 0
      },
      "text/plain": [
       "Test Search Space for shrunk and shrunk:   0%|          | 0/31 [00:00<?, ?it/s]"
      ]
     },
     "metadata": {},
     "output_type": "display_data"
    },
    {
     "data": {
      "application/vnd.jupyter.widget-view+json": {
       "model_id": "8b801aa27663409ab823d708ab7d4216",
       "version_major": 2,
       "version_minor": 0
      },
      "text/plain": [
       "Test Search Space for shrunk and shrunk:   0%|          | 0/31 [00:00<?, ?it/s]"
      ]
     },
     "metadata": {},
     "output_type": "display_data"
    },
    {
     "data": {
      "application/vnd.jupyter.widget-view+json": {
       "model_id": "778940134ab14354bf3998f61d342a74",
       "version_major": 2,
       "version_minor": 0
      },
      "text/plain": [
       "Test Search Space for shrunk and shrunk:   0%|          | 0/31 [00:00<?, ?it/s]"
      ]
     },
     "metadata": {},
     "output_type": "display_data"
    },
    {
     "data": {
      "application/vnd.jupyter.widget-view+json": {
       "model_id": "04418ec8157a4563ac1878fff5ae1917",
       "version_major": 2,
       "version_minor": 0
      },
      "text/plain": [
       "Test Search Space for shrunk and shrunk:   0%|          | 0/31 [00:00<?, ?it/s]"
      ]
     },
     "metadata": {},
     "output_type": "display_data"
    },
    {
     "data": {
      "application/vnd.jupyter.widget-view+json": {
       "model_id": "17ca324a91844aaaa27e8af875cc9179",
       "version_major": 2,
       "version_minor": 0
      },
      "text/plain": [
       "Test Search Space for shrunk and shrunk:   0%|          | 0/31 [00:00<?, ?it/s]"
      ]
     },
     "metadata": {},
     "output_type": "display_data"
    },
    {
     "data": {
      "application/vnd.jupyter.widget-view+json": {
       "model_id": "b17541e6fb6e4e4392c7c47a5c3deb34",
       "version_major": 2,
       "version_minor": 0
      },
      "text/plain": [
       "Test Search Space for shrunk and shrunk:   0%|          | 0/31 [00:00<?, ?it/s]"
      ]
     },
     "metadata": {},
     "output_type": "display_data"
    },
    {
     "data": {
      "application/vnd.jupyter.widget-view+json": {
       "model_id": "d66e4ad3ef6c4828b2c401db607af636",
       "version_major": 2,
       "version_minor": 0
      },
      "text/plain": [
       "Test Search Space for mincovdet and mincovdet:   0%|          | 0/31 [00:00<?, ?it/s]"
      ]
     },
     "metadata": {},
     "output_type": "display_data"
    },
    {
     "data": {
      "application/vnd.jupyter.widget-view+json": {
       "model_id": "b00c176378d94cbd926bda4c13c87be3",
       "version_major": 2,
       "version_minor": 0
      },
      "text/plain": [
       "Test Search Space for mincovdet and mincovdet:   0%|          | 0/31 [00:00<?, ?it/s]"
      ]
     },
     "metadata": {},
     "output_type": "display_data"
    }
   ],
   "source": [
    "methods_mu = [\"historical\", \"EWMA\", \"ledoit\", \"oracle\", \"shrunk\", \"mincovdet\"]\n",
    "methods_cov = [\"historical\", \"EWMA\", \"ledoit\", \"oracle\", \"shrunk\", \"mincovdet\"]\n",
    "objectives = [\"min_risk\", \"max_sharpe\", \"max_return\", \"max_utility\"]\n",
    "\n",
    "final_results = {}\n",
    "\n",
    "for i in range(len(methods_mu)):\n",
    "    mu = methods_mu[i]\n",
    "    cov = methods_cov[i]\n",
    "    for objective in objectives:\n",
    "        params = {\n",
    "            \"train_low\": 100, \n",
    "            \"train_high\": 1000, \n",
    "            \"test_low\": 100, \n",
    "            \"test_high\": 1000, \n",
    "            \"step\": 30,\n",
    "            \"method_mu\": mu, \n",
    "            \"method_cov\": cov, \n",
    "            \"objective\": objective\n",
    "            }\n",
    "        \n",
    "        int_opt = RollingTimeOptimization(returns, params)\n",
    "        results = int_opt()\n",
    "        final_results[f\"{objective} - {mu} - {cov}\"] = results\n",
    "        "
   ]
  },
  {
   "cell_type": "code",
   "execution_count": null,
   "metadata": {},
   "outputs": [],
   "source": [
    "data = (returns + 1).cumprod()\n",
    "rg = RegimeDetection(data)\n",
    "betas = rg.trend_filtering(returns*100, lambda_value=12)\n",
    "tr = rg.regime_switch_series(betas)"
   ]
  },
  {
   "cell_type": "code",
   "execution_count": null,
   "metadata": {},
   "outputs": [],
   "source": []
  }
 ],
 "metadata": {
  "kernelspec": {
   "display_name": "Python 3",
   "language": "python",
   "name": "python3"
  },
  "language_info": {
   "codemirror_mode": {
    "name": "ipython",
    "version": 3
   },
   "file_extension": ".py",
   "mimetype": "text/x-python",
   "name": "python",
   "nbconvert_exporter": "python",
   "pygments_lexer": "ipython3",
   "version": "3.10.6"
  },
  "orig_nbformat": 4
 },
 "nbformat": 4,
 "nbformat_minor": 2
}
