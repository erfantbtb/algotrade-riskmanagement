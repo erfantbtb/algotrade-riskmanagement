{
 "cells": [
  {
   "cell_type": "code",
   "execution_count": 1,
   "metadata": {},
   "outputs": [],
   "source": [
    "import numpy as np \n",
    "import pandas as pd \n",
    "import scipy.stats as st  \n",
    "import yfinance as yf \n",
    "import datetime as dt \n",
    "from _measurements import * \n",
    "from _distribution_test import * \n",
    "\n",
    "import seaborn as sns \n",
    "import matplotlib.pyplot as plt\n",
    "\n",
    "sns.set_theme()"
   ]
  },
  {
   "cell_type": "code",
   "execution_count": 2,
   "metadata": {},
   "outputs": [
    {
     "name": "stdout",
     "output_type": "stream",
     "text": [
      "[*********************100%***********************]  18 of 18 completed\n"
     ]
    }
   ],
   "source": [
    "# List of symbols\n",
    "symbols = [\n",
    "    'AAPL', 'MSFT', 'GOOGL', 'AMZN', 'NVDA', 'JNJ', 'WMT', 'KO', 'BAC', 'ADBE', 'CSCO', 'MCD', 'NFLX', 'NKE', 'PUM.DE',\n",
    "    'PM', 'IBM', 'GE'\n",
    "]\n",
    "\n",
    "# Download historical data for the symbols\n",
    "data = yf.download(symbols, start='2007-01-01', end='2023-08-07')[\"Close\"]\n",
    "\n",
    "# Print the first few rows of the data\n",
    "data.dropna(inplace=True)\n",
    "returns = data.pct_change().dropna()\n",
    "returns = returns[\"AAPL\"]"
   ]
  },
  {
   "cell_type": "code",
   "execution_count": 3,
   "metadata": {},
   "outputs": [],
   "source": [
    "st = Measurements(returns).analyze(returns, pd.DataFrame(np.ones(returns.shape[0])/returns.shape[0]))"
   ]
  },
  {
   "cell_type": "code",
   "execution_count": 4,
   "metadata": {},
   "outputs": [
    {
     "data": {
      "text/html": [
       "<div>\n",
       "<style scoped>\n",
       "    .dataframe tbody tr th:only-of-type {\n",
       "        vertical-align: middle;\n",
       "    }\n",
       "\n",
       "    .dataframe tbody tr th {\n",
       "        vertical-align: top;\n",
       "    }\n",
       "\n",
       "    .dataframe thead th {\n",
       "        text-align: right;\n",
       "    }\n",
       "</style>\n",
       "<table border=\"1\" class=\"dataframe\">\n",
       "  <thead>\n",
       "    <tr style=\"text-align: right;\">\n",
       "      <th></th>\n",
       "      <th>max_drawdown</th>\n",
       "      <th>volatility</th>\n",
       "      <th>sharpe_ratio</th>\n",
       "      <th>kurtosis</th>\n",
       "      <th>skewness</th>\n",
       "      <th>var_hist</th>\n",
       "      <th>cvar_hist</th>\n",
       "      <th>var_gauss</th>\n",
       "      <th>cvar_gauss</th>\n",
       "      <th>var_nongauss</th>\n",
       "      <th>cvar_nongauss</th>\n",
       "    </tr>\n",
       "  </thead>\n",
       "  <tbody>\n",
       "    <tr>\n",
       "      <th>0</th>\n",
       "      <td>0.588334</td>\n",
       "      <td>0.315521</td>\n",
       "      <td>0.058837</td>\n",
       "      <td>6.27345</td>\n",
       "      <td>-0.099118</td>\n",
       "      <td>0.029497</td>\n",
       "      <td>0.001419</td>\n",
       "      <td>0.031519</td>\n",
       "      <td>0.001217</td>\n",
       "      <td>0.02956</td>\n",
       "      <td>0.00141</td>\n",
       "    </tr>\n",
       "  </tbody>\n",
       "</table>\n",
       "</div>"
      ],
      "text/plain": [
       "   max_drawdown  volatility  sharpe_ratio  kurtosis  skewness  var_hist  \\\n",
       "0      0.588334    0.315521      0.058837   6.27345 -0.099118  0.029497   \n",
       "\n",
       "   cvar_hist  var_gauss  cvar_gauss  var_nongauss  cvar_nongauss  \n",
       "0   0.001419   0.031519    0.001217       0.02956        0.00141  "
      ]
     },
     "execution_count": 4,
     "metadata": {},
     "output_type": "execute_result"
    }
   ],
   "source": [
    "pd.DataFrame(st)"
   ]
  },
  {
   "cell_type": "code",
   "execution_count": null,
   "metadata": {},
   "outputs": [],
   "source": []
  }
 ],
 "metadata": {
  "kernelspec": {
   "display_name": "Python 3",
   "language": "python",
   "name": "python3"
  },
  "language_info": {
   "codemirror_mode": {
    "name": "ipython",
    "version": 3
   },
   "file_extension": ".py",
   "mimetype": "text/x-python",
   "name": "python",
   "nbconvert_exporter": "python",
   "pygments_lexer": "ipython3",
   "version": "3.10.6"
  },
  "orig_nbformat": 4
 },
 "nbformat": 4,
 "nbformat_minor": 2
}
