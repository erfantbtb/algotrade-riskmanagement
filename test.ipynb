{
 "cells": [
  {
   "cell_type": "code",
   "execution_count": 6,
   "metadata": {},
   "outputs": [],
   "source": [
    "import numpy as np \n",
    "import pandas as pd \n",
    "import yfinance as yf \n",
    "import datetime as dt \n",
    "from _measurements import * \n",
    "from _optimization import *\n",
    "from _interval_optimization import *\n",
    "import seaborn as sns \n",
    "import matplotlib.pyplot as plt\n",
    "\n",
    "sns.set_theme()"
   ]
  },
  {
   "cell_type": "code",
   "execution_count": 7,
   "metadata": {},
   "outputs": [],
   "source": [
    "%reload_ext autoreload\n",
    "%autoreload 2"
   ]
  },
  {
   "cell_type": "code",
   "execution_count": 8,
   "metadata": {},
   "outputs": [
    {
     "name": "stdout",
     "output_type": "stream",
     "text": [
      "[*********************100%%**********************]  18 of 18 completed"
     ]
    },
    {
     "name": "stderr",
     "output_type": "stream",
     "text": [
      "\n",
      "18 Failed downloads:\n",
      "['WMT', 'BAC', 'IBM', 'GOOGL', 'JNJ', 'AMZN', 'PM', 'MCD', 'NVDA', 'PUM.DE', 'MSFT', 'AAPL', 'KO', 'GE', 'ADBE', 'CSCO', 'NFLX', 'NKE']: Exception('%ticker%: No price data found, symbol may be delisted (1d 2007-01-01 -> 2023-08-07)')\n"
     ]
    },
    {
     "name": "stdout",
     "output_type": "stream",
     "text": [
      "\n"
     ]
    },
    {
     "data": {
      "text/html": [
       "<div>\n",
       "<style scoped>\n",
       "    .dataframe tbody tr th:only-of-type {\n",
       "        vertical-align: middle;\n",
       "    }\n",
       "\n",
       "    .dataframe tbody tr th {\n",
       "        vertical-align: top;\n",
       "    }\n",
       "\n",
       "    .dataframe thead th {\n",
       "        text-align: right;\n",
       "    }\n",
       "</style>\n",
       "<table border=\"1\" class=\"dataframe\">\n",
       "  <thead>\n",
       "    <tr style=\"text-align: right;\">\n",
       "      <th></th>\n",
       "      <th>AAPL</th>\n",
       "      <th>ADBE</th>\n",
       "      <th>AMZN</th>\n",
       "      <th>BAC</th>\n",
       "      <th>CSCO</th>\n",
       "      <th>GE</th>\n",
       "      <th>GOOGL</th>\n",
       "      <th>IBM</th>\n",
       "      <th>JNJ</th>\n",
       "      <th>KO</th>\n",
       "      <th>MCD</th>\n",
       "      <th>MSFT</th>\n",
       "      <th>NFLX</th>\n",
       "      <th>NKE</th>\n",
       "      <th>NVDA</th>\n",
       "      <th>PM</th>\n",
       "      <th>PUM.DE</th>\n",
       "      <th>WMT</th>\n",
       "    </tr>\n",
       "    <tr>\n",
       "      <th>Date</th>\n",
       "      <th></th>\n",
       "      <th></th>\n",
       "      <th></th>\n",
       "      <th></th>\n",
       "      <th></th>\n",
       "      <th></th>\n",
       "      <th></th>\n",
       "      <th></th>\n",
       "      <th></th>\n",
       "      <th></th>\n",
       "      <th></th>\n",
       "      <th></th>\n",
       "      <th></th>\n",
       "      <th></th>\n",
       "      <th></th>\n",
       "      <th></th>\n",
       "      <th></th>\n",
       "      <th></th>\n",
       "    </tr>\n",
       "  </thead>\n",
       "  <tbody>\n",
       "  </tbody>\n",
       "</table>\n",
       "</div>"
      ],
      "text/plain": [
       "Empty DataFrame\n",
       "Columns: [AAPL, ADBE, AMZN, BAC, CSCO, GE, GOOGL, IBM, JNJ, KO, MCD, MSFT, NFLX, NKE, NVDA, PM, PUM.DE, WMT]\n",
       "Index: []"
      ]
     },
     "execution_count": 8,
     "metadata": {},
     "output_type": "execute_result"
    }
   ],
   "source": [
    "# List of symbols\n",
    "symbols = [\n",
    "    'AAPL', 'MSFT', 'GOOGL', 'AMZN', 'NVDA', 'JNJ', 'WMT', 'KO', 'BAC', 'ADBE', 'CSCO', 'MCD', 'NFLX', 'NKE', 'PUM.DE',\n",
    "    'PM', 'IBM', 'GE'\n",
    "]\n",
    "\n",
    "# Download historical data for the symbols\n",
    "data = yf.download(symbols, start='2007-01-01', end='2023-08-07')[\"Close\"]\n",
    "\n",
    "# Print the first few rows of the data\n",
    "data.dropna(inplace=True)\n",
    "returns = data.pct_change().dropna()\n",
    "returns"
   ]
  },
  {
   "cell_type": "code",
   "execution_count": null,
   "metadata": {},
   "outputs": [],
   "source": [
    "methods_mu = [\"historical\", \"EWMA\", \"ledoit\", \"oracle\", \"shrunk\", \"mincovdet\"]\n",
    "methods_cov = [\"historical\", \"EWMA\", \"ledoit\", \"oracle\", \"shrunk\", \"mincovdet\"]\n",
    "objectives = [\"min_risk\", \"max_sharpe\", \"max_return\", \"max_utility\"]\n",
    "\n",
    "final_results = []\n",
    "\n",
    "for i in range(len(methods_mu)):\n",
    "    mu = methods_mu[i]\n",
    "    cov = methods_cov[i]\n",
    "    for objective in objectives:\n",
    "        params = {\"train_low\": 30, \n",
    "                \"train_high\": 33, \n",
    "                \"test_low\": 30, \n",
    "                \"test_high\": 33, \n",
    "                \"step\": 1,\n",
    "                \"method_mu\": mu, \n",
    "                \"method_cov\": cov, \n",
    "                \"objective\": objective}\n",
    "        \n",
    "        int_opt = IntervalOptimization(returns, params)\n",
    "        results = int_opt()\n",
    "        final_results.append(results)"
   ]
  },
  {
   "cell_type": "code",
   "execution_count": null,
   "metadata": {},
   "outputs": [],
   "source": [
    "np.array(final_results).shape"
   ]
  },
  {
   "cell_type": "code",
   "execution_count": null,
   "metadata": {},
   "outputs": [],
   "source": []
  }
 ],
 "metadata": {
  "kernelspec": {
   "display_name": "Python 3",
   "language": "python",
   "name": "python3"
  },
  "language_info": {
   "codemirror_mode": {
    "name": "ipython",
    "version": 3
   },
   "file_extension": ".py",
   "mimetype": "text/x-python",
   "name": "python",
   "nbconvert_exporter": "python",
   "pygments_lexer": "ipython3",
   "version": "3.10.9"
  },
  "orig_nbformat": 4
 },
 "nbformat": 4,
 "nbformat_minor": 2
}
